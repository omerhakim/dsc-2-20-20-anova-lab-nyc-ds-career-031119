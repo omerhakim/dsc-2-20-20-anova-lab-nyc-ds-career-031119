{
 "cells": [
  {
   "cell_type": "markdown",
   "metadata": {},
   "source": [
    "## ANOVA - Lab\n",
    "\n",
    "## Introduction\n",
    "\n",
    "In this lab, you'll get some brief practice generating an ANOVA table (AOV) and interpreting its output.\n",
    "\n",
    "## Objectives\n",
    "\n",
    "You will be able to:\n",
    "* Use ANOVA for testing multiple pairwise comparisons\n",
    "* Understand and explain the methodology behind ANOVA tests"
   ]
  },
  {
   "cell_type": "markdown",
   "metadata": {},
   "source": [
    "## Loading the Data\n",
    "\n",
    "Start by loading in the data stored in the file **ToothGrowth.csv**."
   ]
  },
  {
   "cell_type": "code",
   "execution_count": 3,
   "metadata": {},
   "outputs": [
    {
     "data": {
      "text/html": [
       "<div>\n",
       "<style scoped>\n",
       "    .dataframe tbody tr th:only-of-type {\n",
       "        vertical-align: middle;\n",
       "    }\n",
       "\n",
       "    .dataframe tbody tr th {\n",
       "        vertical-align: top;\n",
       "    }\n",
       "\n",
       "    .dataframe thead th {\n",
       "        text-align: right;\n",
       "    }\n",
       "</style>\n",
       "<table border=\"1\" class=\"dataframe\">\n",
       "  <thead>\n",
       "    <tr style=\"text-align: right;\">\n",
       "      <th></th>\n",
       "      <th>len</th>\n",
       "      <th>supp</th>\n",
       "      <th>dose</th>\n",
       "    </tr>\n",
       "  </thead>\n",
       "  <tbody>\n",
       "    <tr>\n",
       "      <th>55</th>\n",
       "      <td>30.9</td>\n",
       "      <td>OJ</td>\n",
       "      <td>2.0</td>\n",
       "    </tr>\n",
       "    <tr>\n",
       "      <th>56</th>\n",
       "      <td>26.4</td>\n",
       "      <td>OJ</td>\n",
       "      <td>2.0</td>\n",
       "    </tr>\n",
       "    <tr>\n",
       "      <th>57</th>\n",
       "      <td>27.3</td>\n",
       "      <td>OJ</td>\n",
       "      <td>2.0</td>\n",
       "    </tr>\n",
       "    <tr>\n",
       "      <th>58</th>\n",
       "      <td>29.4</td>\n",
       "      <td>OJ</td>\n",
       "      <td>2.0</td>\n",
       "    </tr>\n",
       "    <tr>\n",
       "      <th>59</th>\n",
       "      <td>23.0</td>\n",
       "      <td>OJ</td>\n",
       "      <td>2.0</td>\n",
       "    </tr>\n",
       "  </tbody>\n",
       "</table>\n",
       "</div>"
      ],
      "text/plain": [
       "     len supp  dose\n",
       "55  30.9   OJ   2.0\n",
       "56  26.4   OJ   2.0\n",
       "57  27.3   OJ   2.0\n",
       "58  29.4   OJ   2.0\n",
       "59  23.0   OJ   2.0"
      ]
     },
     "execution_count": 3,
     "metadata": {},
     "output_type": "execute_result"
    }
   ],
   "source": [
    "# Your code here\n",
    "import pandas as pd\n",
    "df=pd.read_csv(\"ToothGrowth.csv\")\n",
    "df.tail()\n"
   ]
  },
  {
   "cell_type": "markdown",
   "metadata": {},
   "source": [
    "## Generating the ANOVA Table\n",
    "\n",
    "Now generate an ANOVA table in order to analyze the influence of the medication and dosage "
   ]
  },
  {
   "cell_type": "code",
   "execution_count": 6,
   "metadata": {},
   "outputs": [
    {
     "name": "stdout",
     "output_type": "stream",
     "text": [
      "               sum_sq    df           F        PR(>F)\n",
      "C(supp)    205.350000   1.0   11.446768  1.300662e-03\n",
      "dose      2224.304298   1.0  123.988774  6.313519e-16\n",
      "Residual  1022.555036  57.0         NaN           NaN\n"
     ]
    }
   ],
   "source": [
    "#Your code here\n",
    "import statsmodels.api as sm\n",
    "from statsmodels.formula.api import ols\n",
    "formula = 'len ~ C(supp) + dose'\n",
    "lm = ols(formula, df).fit()\n",
    "table = sm.stats.anova_lm(lm, typ=2)\n",
    "print(table)"
   ]
  },
  {
   "cell_type": "markdown",
   "metadata": {},
   "source": [
    "## Reading the Table\n",
    "\n",
    "Make a brief comment regarding the statistics regarding the effect of supplement and dosage on tooth length."
   ]
  },
  {
   "cell_type": "markdown",
   "metadata": {},
   "source": [
    "#Your comment here\n",
    "Both does and supplement type are impactful. At first glance, dosage seems to be the more impactful of the two."
   ]
  },
  {
   "cell_type": "markdown",
   "metadata": {},
   "source": [
    "## Summary\n",
    "\n",
    "In this lesson, we examined the ANOVA technique to generalize A/B testing methods to multiple groups and factors."
   ]
  }
 ],
 "metadata": {
  "kernelspec": {
   "display_name": "Python 3",
   "language": "python",
   "name": "python3"
  },
  "language_info": {
   "codemirror_mode": {
    "name": "ipython",
    "version": 3
   },
   "file_extension": ".py",
   "mimetype": "text/x-python",
   "name": "python",
   "nbconvert_exporter": "python",
   "pygments_lexer": "ipython3",
   "version": "3.6.6"
  }
 },
 "nbformat": 4,
 "nbformat_minor": 2
}
